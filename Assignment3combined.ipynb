{
 "cells": [
  {
   "cell_type": "code",
   "execution_count": 2,
   "id": "f69ca327-82c8-4183-8e2d-5a55283c82b0",
   "metadata": {},
   "outputs": [
    {
     "name": "stdin",
     "output_type": "stream",
     "text": [
      "enter the number : -98\n"
     ]
    },
    {
     "name": "stdout",
     "output_type": "stream",
     "text": [
      "negative\n"
     ]
    }
   ],
   "source": [
    "# 1. Write a Python program that checks if a given number is positive, negative, or zero.\n",
    "n=int(input(\"enter the number :\"))\n",
    "\n",
    "if n>=0:\n",
    "    print(\"positive\")\n",
    "if n<0:\n",
    "    print(\"negative\")"
   ]
  },
  {
   "cell_type": "code",
   "execution_count": 4,
   "id": "f80b768c-b20f-453d-b5c9-ccf8efc55ce3",
   "metadata": {},
   "outputs": [
    {
     "name": "stdin",
     "output_type": "stream",
     "text": [
      "enter the age : 18\n"
     ]
    },
    {
     "name": "stdout",
     "output_type": "stream",
     "text": [
      "novote\n"
     ]
    }
   ],
   "source": [
    "# 2. Create a program to determine if a person is eligible to vote based on their age.\n",
    "\n",
    "n=int(input(\"enter the age :\"))\n",
    "\n",
    "if n>18:\n",
    "    print(\"please vote\")\n",
    "if n<=18:\n",
    "    print(\"novote\")"
   ]
  },
  {
   "cell_type": "code",
   "execution_count": 8,
   "id": "e80ec41f-71dc-4109-8863-c848b386843d",
   "metadata": {},
   "outputs": [
    {
     "name": "stdin",
     "output_type": "stream",
     "text": [
      "enter the number a : 10\n",
      "enter the number b : 2\n"
     ]
    },
    {
     "name": "stdout",
     "output_type": "stream",
     "text": [
      "10\n"
     ]
    }
   ],
   "source": [
    "# 3. Write a program to find the maximum of two given numbers using conditional statements.\n",
    "\n",
    "n=int(input(\"enter the number a :\"))\n",
    "n1=int(input(\"enter the number b :\"))\n",
    "if n1>n:\n",
    "    print(n1)\n",
    "if n1<n:\n",
    "    print(n)\n",
    "else:\n",
    "    print(\"equal\")"
   ]
  },
  {
   "cell_type": "code",
   "execution_count": 10,
   "id": "688619dc-451b-4dd6-825c-58e87dfb3640",
   "metadata": {},
   "outputs": [
    {
     "name": "stdin",
     "output_type": "stream",
     "text": [
      "enter the number a : 56\n"
     ]
    },
    {
     "name": "stdout",
     "output_type": "stream",
     "text": [
      "fail\n"
     ]
    }
   ],
   "source": [
    "# 4. Develop a program that calculates the grade of a student based on their exam score.\n",
    "\n",
    "n1=int(input(\"enter the number a :\"))\n",
    "\n",
    "if n1>=90 and n1<=100 :\n",
    "    print(\"a\")\n",
    "if n1>=80 and n1<90:\n",
    "    print(\"b\")\n",
    "if n1>=70 and n1<80:\n",
    "    print(\"c\")\n",
    "else:\n",
    "    print(\"fail\")"
   ]
  },
  {
   "cell_type": "code",
   "execution_count": 12,
   "id": "fb599b6d-ddf5-426a-9252-f7b911d1b2ef",
   "metadata": {},
   "outputs": [
    {
     "name": "stdin",
     "output_type": "stream",
     "text": [
      "enter the sides of the tri: 12\n",
      "enter the sides of the tri: 12\n",
      "enter the sides of the tri: 12\n"
     ]
    },
    {
     "name": "stdout",
     "output_type": "stream",
     "text": [
      "equi\n"
     ]
    }
   ],
   "source": [
    "# 6. Write a program to classify a triangle based on its sides' lengths.\n",
    "\n",
    "a=int(input(\"enter the sides of the tri:\"))\n",
    "b=int(input(\"enter the sides of the tri:\"))\n",
    "c=int(input(\"enter the sides of the tri:\"))\n",
    "\n",
    "if a==b and a==c:\n",
    "    print(\"equi\")\n",
    "elif a == b or b == c or c == a:\n",
    "    print(\"It is an Isosceles triangle.\")\n",
    "else:\n",
    "    print(\"It is a Scalene triangle.\")"
   ]
  },
  {
   "cell_type": "code",
   "execution_count": 14,
   "id": "f0f6968a-2119-4a87-bc88-2d820cdcb92b",
   "metadata": {},
   "outputs": [
    {
     "name": "stdin",
     "output_type": "stream",
     "text": [
      "enter the sides of the : 5\n",
      "enter the sides of the : 10\n",
      "enter the sides of the : 990\n"
     ]
    },
    {
     "name": "stdout",
     "output_type": "stream",
     "text": [
      "The largest number is: 990\n"
     ]
    }
   ],
   "source": [
    "# 7. Build a program that determines the largest of three given numbers.\n",
    "\n",
    "\n",
    "a=int(input(\"enter the sides of the :\"))\n",
    "b=int(input(\"enter the sides of the :\"))\n",
    "c=int(input(\"enter the sides of the :\"))\n",
    "\n",
    "if a >= b and a >= c:\n",
    "    print(\"The largest number is:\", a)\n",
    "elif b >= a and b >= c:\n",
    "    print(\"The largest number is:\", b)\n",
    "else:\n",
    "    print(\"The largest number is:\", c)\n"
   ]
  },
  {
   "cell_type": "code",
   "execution_count": 16,
   "id": "34b7ebe3-49a8-4faf-8e8e-da76364f7226",
   "metadata": {},
   "outputs": [
    {
     "name": "stdin",
     "output_type": "stream",
     "text": [
      "enter a char:  z\n"
     ]
    },
    {
     "name": "stdout",
     "output_type": "stream",
     "text": [
      "conosonent\n"
     ]
    }
   ],
   "source": [
    "# 8. Develop a program that checks whether a character is a vowel or a consonant.\n",
    "\n",
    "\n",
    "s=(input(\"enter a char: \"))\n",
    "s1=\"aeiouAEIOU\"\n",
    "if len(s)!=1:\n",
    "    print(\"enter the char not string\")\n",
    "else:\n",
    "    for i in s:\n",
    "        if s  not in s1:\n",
    "            print(\"conosonent\")\n",
    "        else:\n",
    "             print(\"voewel\")\n"
   ]
  },
  {
   "cell_type": "code",
   "execution_count": 20,
   "id": "4892959a-ff6b-4c0d-b680-7b1adf2a3827",
   "metadata": {},
   "outputs": [
    {
     "name": "stdin",
     "output_type": "stream",
     "text": [
      "enter the current discount in percentage: 20\n"
     ]
    },
    {
     "name": "stdout",
     "output_type": "stream",
     "text": [
      "4000.0\n"
     ]
    }
   ],
   "source": [
    "# 9. Create a program to calculate the total cost of a shopping cart based on discounts.\n",
    "\n",
    "discount=int(input(\"enter the current discount in percentage:\"))\n",
    "#add the total item cost in the list\n",
    "cart=[2000,1500,1400,100]\n",
    "sum=0#variable to calculate the total bill amount\n",
    "for i in cart:\n",
    "    sum=sum+i #calculate the total amount of discount and deduct from the total sum \n",
    "sum =sum -(sum * discount/100)\n",
    "print(sum)"
   ]
  },
  {
   "cell_type": "code",
   "execution_count": 26,
   "id": "f8f29161-25ff-4af3-b6b8-da61fb2a9971",
   "metadata": {},
   "outputs": [
    {
     "name": "stdin",
     "output_type": "stream",
     "text": [
      "enter the number 10\n"
     ]
    },
    {
     "name": "stdout",
     "output_type": "stream",
     "text": [
      "even\n"
     ]
    }
   ],
   "source": [
    "# 10. Write a program that checks if a given number is even or odd.\n",
    "n =int(input(\"enter the number\"))\n",
    "if n%2 == 0:\n",
    "    print(\"even\")\n",
    "else:\n",
    "    print(\"odd\")"
   ]
  },
  {
   "cell_type": "code",
   "execution_count": 28,
   "id": "1dcc9ed2-5978-4cf7-b0ba-a3563aea3c22",
   "metadata": {},
   "outputs": [
    {
     "name": "stdin",
     "output_type": "stream",
     "text": [
      "enter the weight in kg 90\n",
      "enter the height in metre 1.55\n"
     ]
    },
    {
     "name": "stdout",
     "output_type": "stream",
     "text": [
      "37.460978147762745\n",
      "need to do exercise for the better health\n"
     ]
    }
   ],
   "source": [
    "# 30. Write a program that calculates the BMI (Body Mass Index) and provides health recommendations based on the user's input.\n",
    "\n",
    "\n",
    "weight=int(input(\"enter the weight in kg\"))\n",
    "height=float(input(\"enter the height in metre\"))\n",
    "\n",
    "bmi= weight/height**2\n",
    "print(bmi)\n",
    "\n",
    "if bmi<18 :\n",
    "    print(\"increase your weight and focus on the diet\")\n",
    "if bmi>25:\n",
    "    print(\"need to do exercise for the better health\")\n",
    "if bmi>18 and bmi<25:\n",
    "    print(\"perfect health\")"
   ]
  },
  {
   "cell_type": "code",
   "execution_count": 2,
   "id": "906cf362-05e1-4a4d-885a-35252476d810",
   "metadata": {},
   "outputs": [
    {
     "name": "stdout",
     "output_type": "stream",
     "text": [
      "this code will provide the roots of the quadratic equation\n"
     ]
    },
    {
     "name": "stdin",
     "output_type": "stream",
     "text": [
      "enter the value of a: 1\n",
      "enter the value of a: 2\n",
      "enter the value of a: 5\n"
     ]
    },
    {
     "name": "stdout",
     "output_type": "stream",
     "text": [
      "this code will provide the roots of the quadratic equation\n",
      "equation contain complex roots\n"
     ]
    }
   ],
   "source": [
    "# 29. Build a program that determines the roots of a quartic equation using numerical methods.\n",
    "\n",
    "print(\"this code will provide the roots of the quadratic equation\")\n",
    "import math\n",
    "a =int(input(\"enter the value of a:\"))\n",
    "b =int(input(\"enter the value of a:\"))\n",
    "c=int(input(\"enter the value of a:\"))\n",
    "print(\"this code will provide the roots of the quadratic equation\")\n",
    "\n",
    "root=[]\n",
    "\n",
    "halfsolve= b**2-4*a*c\n",
    "\n",
    "if halfsolve>0:\n",
    "    root[0]=(-b + math.sqrt(halfsolve))/(2*a)\n",
    "    root[1]=(-b - math.sqrt(halfsolve))/(2*a)\n",
    "\n",
    "if halfsolve ==0:\n",
    "    root[0] =(-b)/(2*a)\n",
    "    root[1]=root[0]\n",
    "    \n",
    "else:\n",
    "    #when the halfsolve is negative\n",
    "    print(\"equation contain complex roots\")\n"
   ]
  },
  {
   "cell_type": "code",
   "execution_count": 4,
   "id": "f5a0abf8-7c85-423c-8233-e45a14a836a1",
   "metadata": {},
   "outputs": [
    {
     "name": "stdin",
     "output_type": "stream",
     "text": [
      "Enter first number:  11\n",
      "Enter second number:  90\n",
      "Enter third number:  25\n"
     ]
    },
    {
     "name": "stdout",
     "output_type": "stream",
     "text": [
      "11.0 25.0 90.0\n"
     ]
    }
   ],
   "source": [
    "# 28. Create a program that sorts three numbers in ascending order using conditional statements.\n",
    "\n",
    "\n",
    "\n",
    "a = float(input(\"Enter first number: \"))\n",
    "b = float(input(\"Enter second number: \"))\n",
    "c = float(input(\"Enter third number: \"))\n",
    "\n",
    "\n",
    "if a <= b and a <= c:\n",
    "    if b <= c:\n",
    "        print(a, b, c)\n",
    "    else:\n",
    "        print(a, c, b)\n",
    "elif b <= a and b <= c:\n",
    "    if a <= c:\n",
    "        print(b, a, c)\n",
    "    else:\n",
    "        print(b, c, a)\n",
    "else:  # c is smallest\n",
    "    if a <= b:\n",
    "        print(c, a, b)\n",
    "    else:\n",
    "        print(c, b, a)\n"
   ]
  },
  {
   "cell_type": "code",
   "execution_count": 8,
   "id": "bc36321d-cfdf-4771-b8ba-4b961da33529",
   "metadata": {},
   "outputs": [
    {
     "name": "stdin",
     "output_type": "stream",
     "text": [
      "enter the year 172\n"
     ]
    },
    {
     "name": "stdout",
     "output_type": "stream",
     "text": [
      "not\n"
     ]
    }
   ],
   "source": [
    "# 27. Develop a program that determines whether a given year is a prime number or not.\n",
    "i =int(input(\"enter the year\"))\n",
    "is_prime=True\n",
    "for l in range(2,i+1):\n",
    "    \n",
    "    if i % l ==0:\n",
    "        is_prime=False\n",
    "        break\n",
    "if is_prime:\n",
    "    print(\"prime\")\n",
    "else :\n",
    "    print(\"not\")\n",
    "    "
   ]
  },
  {
   "cell_type": "code",
   "execution_count": 2,
   "id": "9e395507-18eb-4cf8-a01b-68cda9f15a17",
   "metadata": {},
   "outputs": [
    {
     "name": "stdin",
     "output_type": "stream",
     "text": [
      "enter the pin of the card:  1574\n"
     ]
    },
    {
     "name": "stdout",
     "output_type": "stream",
     "text": [
      "press 1 : for the withdrawal :\n",
      "press 2 : show account balance : \n",
      "press 3 : to add money in the account:\n"
     ]
    },
    {
     "name": "stdin",
     "output_type": "stream",
     "text": [
      "enter the further option here 1 or 2 or 3:  3\n",
      "enter the money to add:  1000\n"
     ]
    },
    {
     "name": "stdout",
     "output_type": "stream",
     "text": [
      "the final Balance is: 11000\n"
     ]
    }
   ],
   "source": [
    "# 15. Create a program that simulates a basic ATM transaction menu.\n",
    "\n",
    "savedpin = \"1574\"\n",
    "Balance = 10000\n",
    "\n",
    "userenterpin = input(\"enter the pin of the card: \")\n",
    "if userenterpin != savedpin:\n",
    "    print(\"oops something went wrong\")\n",
    "else:\n",
    "    print(\"press 1 : for the withdrawal :\")\n",
    "    print(\"press 2 : show account balance : \")\n",
    "    print(\"press 3 : to add money in the account:\")\n",
    "\n",
    "    option = input(\"enter the further option here 1 or 2 or 3: \")\n",
    "    \n",
    "    if option == \"1\":\n",
    "        withdrawl = int(input(\"enter the amount to be withdrawn: \"))\n",
    "        if withdrawl > Balance:\n",
    "            print(\"Enter valid amount\")\n",
    "        else:\n",
    "            Balance = Balance - withdrawl\n",
    "            print(f\"final amount after transaction is: {Balance}\")\n",
    "    \n",
    "    elif option == \"3\":\n",
    "        cashadd = int(input(\"enter the money to add: \"))\n",
    "        Balance = Balance + cashadd\n",
    "        print(f\"the final Balance is: {Balance}\")\n",
    "    \n",
    "    elif option == \"2\":\n",
    "        print(f\"Your account balance is: {Balance}\")\n",
    "    \n",
    "    else:\n",
    "        print(\"Invalid option selected.\")\n",
    "\n",
    "        \n",
    "    "
   ]
  },
  {
   "cell_type": "code",
   "execution_count": 4,
   "id": "e46d896a-bc94-495d-801c-6a433de40b01",
   "metadata": {},
   "outputs": [],
   "source": [
    "# 16. Build a program that checks if a given string is a palindrome or not.\n",
    "#takes the string then start two loop while i <j and check if i!=j then not palindrome else palindrome\n",
    "#done this questio multiple time in previous assignment"
   ]
  },
  {
   "cell_type": "code",
   "execution_count": 6,
   "id": "1b61ca22-dc7c-491d-a5e3-b04b920b3803",
   "metadata": {},
   "outputs": [
    {
     "name": "stdout",
     "output_type": "stream",
     "text": [
      "[2, 25, 60, 765, 876, 1000, 8900]\n",
      "389.42857142857144\n"
     ]
    }
   ],
   "source": [
    "# 17. Write a program that calculates the average of a list of numbers, excluding the smallest and largest values.\n",
    "\n",
    "\n",
    "li=[25,60,876,1000,765,8900,2]\n",
    "li.sort()\n",
    "print(li)\n",
    "sum=0\n",
    "for i in range(1,len(li)-1):\n",
    "    sum= sum+ li[i]\n",
    "sum=sum/len(li)\n",
    "print(sum)\n"
   ]
  },
  {
   "cell_type": "code",
   "execution_count": 8,
   "id": "14291a1c-2427-4202-9c74-d341c4b5fb5a",
   "metadata": {},
   "outputs": [
    {
     "name": "stdin",
     "output_type": "stream",
     "text": [
      "enter the temperature: 25\n"
     ]
    },
    {
     "name": "stdout",
     "output_type": "stream",
     "text": [
      "77.0\n"
     ]
    }
   ],
   "source": [
    "# 18. Develop a program that converts a given temperature from Celsius to Fahrenheit.\n",
    "\n",
    "li=int(input(\"enter the temperature:\"))\n",
    "li = (li *9/5) + 32\n",
    "print(li)\n",
    "\n"
   ]
  },
  {
   "cell_type": "code",
   "execution_count": null,
   "id": "dbd3a411-2472-4b7b-967c-65585dee9716",
   "metadata": {},
   "outputs": [],
   "source": []
  }
 ],
 "metadata": {
  "kernelspec": {
   "display_name": "Python 3 (ipykernel)",
   "language": "python",
   "name": "python3"
  },
  "language_info": {
   "codemirror_mode": {
    "name": "ipython",
    "version": 3
   },
   "file_extension": ".py",
   "mimetype": "text/x-python",
   "name": "python",
   "nbconvert_exporter": "python",
   "pygments_lexer": "ipython3",
   "version": "3.12.7"
  }
 },
 "nbformat": 4,
 "nbformat_minor": 5
}
