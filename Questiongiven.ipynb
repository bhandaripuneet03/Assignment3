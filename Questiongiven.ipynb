{
 "cells": [
  {
   "cell_type": "code",
   "execution_count": 10,
   "id": "c5802655-a4d9-4f53-888e-34b5dd4c5b8f",
   "metadata": {},
   "outputs": [
    {
     "name": "stdin",
     "output_type": "stream",
     "text": [
      "enter the string as a input : sfg@ iksn\n"
     ]
    },
    {
     "name": "stdout",
     "output_type": "stream",
     "text": [
      "password is wrong  do not contain  spaces or speacial charaacters\n"
     ]
    }
   ],
   "source": [
    "# 17.Accept a string as input. Your task is to determine if the input string is a valid password or not. For a \n",
    "# string to be a valid password, it must satisfy all the conditions given below:\n",
    "# (1) It should have at least 8 and at most 32 characters\n",
    "# (2) It should start with an uppercase or lowercase letter\n",
    "# (3) It should not have any of these characters: / \\ = ' \"\n",
    "# (4) It should not have spaces\n",
    "# It could have any character that is not mentioned in the list of characters to be avoided\n",
    "\n",
    "import string\n",
    "s=input(\"enter the string as a input :\")\n",
    "\n",
    "upper= ['/', '\\\\', '=', \"'\", '\"', ' ']   \n",
    "\n",
    "\n",
    "\n",
    "lenofs=len(s)\n",
    "\n",
    "if lenofs>=8 and lenofs<=32:\n",
    "    if s[0]  in string.ascii_letters:\n",
    "        valid = True\n",
    "        for i in s:\n",
    "            valid =True\n",
    "            if i  in upper:\n",
    "                print(\"password is wrong  do not contain  spaces or speacial charaacters\")\n",
    "                valid=False\n",
    "                break\n",
    "        if valid:\n",
    "            print(\"pass correct\")\n",
    "    else:\n",
    "          print(\"the First char must be a letter\")\n",
    "else:\n",
    "    print(\"length should be correct \")       \n",
    "   \n",
    "    \n",
    "            \n",
    "        \n",
    "\n",
    "                \n",
    "                \n"
   ]
  },
  {
   "cell_type": "code",
   "execution_count": null,
   "id": "3abfbb7f-4c6c-4017-8cc5-4f2ca7e2f395",
   "metadata": {},
   "outputs": [],
   "source": []
  }
 ],
 "metadata": {
  "kernelspec": {
   "display_name": "Python 3 (ipykernel)",
   "language": "python",
   "name": "python3"
  },
  "language_info": {
   "codemirror_mode": {
    "name": "ipython",
    "version": 3
   },
   "file_extension": ".py",
   "mimetype": "text/x-python",
   "name": "python",
   "nbconvert_exporter": "python",
   "pygments_lexer": "ipython3",
   "version": "3.12.7"
  }
 },
 "nbformat": 4,
 "nbformat_minor": 5
}
