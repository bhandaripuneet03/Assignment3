{
 "cells": [
  {
   "cell_type": "code",
   "execution_count": 2,
   "id": "ee4c830b-348b-43b1-811b-ea4adac019f7",
   "metadata": {},
   "outputs": [
    {
     "name": "stdin",
     "output_type": "stream",
     "text": [
      "enter the salary in  800000\n"
     ]
    },
    {
     "name": "stdout",
     "output_type": "stream",
     "text": [
      "your tax is 160000.0\n"
     ]
    }
   ],
   "source": [
    "# 21. Create a program that calculates the income tax based on the user's income and tax brackets.\n",
    "def mathsji(salary):\n",
    "    tax=0\n",
    "    if salary <250000:\n",
    "        return tax\n",
    "    elif salary <= 500000:\n",
    "        tax= tax+ (salary-250000) *0.05\n",
    "    elif salary >500000 and salary<1000000:\n",
    "        tax=tax+(salary)*0.20\n",
    "    else:\n",
    "        tax=tax+(salary)*0.30\n",
    "    \n",
    "    return tax\n",
    "        \n",
    "        \n",
    "salary=int(input(\"enter the salary in \"))\n",
    "tax=mathsji(salary)\n",
    "print(f\"your tax is {tax}\")"
   ]
  },
  {
   "cell_type": "code",
   "execution_count": 4,
   "id": "d52fd0ac-5d5e-4b52-b128-5e4a1bc6ef35",
   "metadata": {},
   "outputs": [
    {
     "name": "stdout",
     "output_type": "stream",
     "text": [
      "Game will play three times and the player with more score wins:\n"
     ]
    },
    {
     "name": "stdin",
     "output_type": "stream",
     "text": [
      "Enter the choice, rock =1, paper =2, scissor=3:  3\n",
      "Enter the choice, rock =1, paper =2, scissor=3:  2\n",
      "Enter the choice, rock =1, paper =2, scissor=3:  1\n"
     ]
    },
    {
     "name": "stdout",
     "output_type": "stream",
     "text": [
      "User wins\n"
     ]
    }
   ],
   "source": [
    "# 22. Write a program that simulates a rock-paper-scissors game against the computer\n",
    "import random\n",
    "\n",
    "# rock =1, paper =2, scissor =3\n",
    "li = [1, 2, 3]\n",
    "\n",
    "userpoint = 0\n",
    "systempoint = 0\n",
    "\n",
    "print(\"Game will play three times and the player with more score wins:\")\n",
    "\n",
    "for i in range(3):\n",
    "    systemchoice = random.choice(li)\n",
    "    userchoice = int(input(\"Enter the choice, rock =1, paper =2, scissor=3: \"))\n",
    "\n",
    "    \n",
    "    if systemchoice == userchoice:\n",
    "        userpoint+=1\n",
    "        systempoint+=1\n",
    "    elif systemchoice == 1 and userchoice == 2:\n",
    "        userpoint += 1\n",
    "    elif systemchoice == 1 and userchoice == 3:\n",
    "        systempoint += 1\n",
    "    elif systemchoice == 2 and userchoice == 3:\n",
    "        userpoint += 1\n",
    "    elif systemchoice == 2 and userchoice == 1:\n",
    "        systempoint += 1\n",
    "    elif systemchoice == 3 and userchoice == 1:\n",
    "        userpoint += 1\n",
    "    elif systemchoice == 3 and userchoice == 2:\n",
    "        systempoint += 1\n",
    "\n",
    "\n",
    "if userpoint > systempoint:\n",
    "    print(\"User wins\")\n",
    "elif systempoint > userpoint:\n",
    "    print(\"System wins\")\n",
    "else:\n",
    "    print(\"It's a tie\")\n"
   ]
  },
  {
   "cell_type": "code",
   "execution_count": 6,
   "id": "374e5060-b0cf-40c1-b630-e21ced6fdc3a",
   "metadata": {},
   "outputs": [
    {
     "name": "stdin",
     "output_type": "stream",
     "text": [
      "enter the password length you want: 5\n"
     ]
    },
    {
     "name": "stdout",
     "output_type": "stream",
     "text": [
      " gatqr\n"
     ]
    }
   ],
   "source": [
    "# 23. Develop a program that generates a random password based on user preferences (length, complexity).\n",
    "\n",
    "import string,random\n",
    "\n",
    "li = list(string.digits +string.ascii_letters)\n",
    "pas=\" \"\n",
    "\n",
    "i =int(input(\"enter the password length you want:\"))\n",
    "for i in range(i):\n",
    "    k=random.choice(li)\n",
    "    pas=pas+k\n",
    "print(pas)"
   ]
  },
  {
   "cell_type": "code",
   "execution_count": null,
   "id": "22fde1db-25d8-42b8-b747-b6dd0629dbfa",
   "metadata": {},
   "outputs": [],
   "source": [
    "\n"
   ]
  }
 ],
 "metadata": {
  "kernelspec": {
   "display_name": "Python 3 (ipykernel)",
   "language": "python",
   "name": "python3"
  },
  "language_info": {
   "codemirror_mode": {
    "name": "ipython",
    "version": 3
   },
   "file_extension": ".py",
   "mimetype": "text/x-python",
   "name": "python",
   "nbconvert_exporter": "python",
   "pygments_lexer": "ipython3",
   "version": "3.12.7"
  }
 },
 "nbformat": 4,
 "nbformat_minor": 5
}
