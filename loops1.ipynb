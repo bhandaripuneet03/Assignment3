{
 "cells": [
  {
   "cell_type": "code",
   "execution_count": 2,
   "id": "323b5af9-fd29-44c6-892c-052a8451afd0",
   "metadata": {},
   "outputs": [
    {
     "name": "stdout",
     "output_type": "stream",
     "text": [
      "1\n",
      "2\n",
      "3\n",
      "4\n",
      "5\n",
      "6\n",
      "7\n",
      "8\n",
      "9\n",
      "10\n"
     ]
    }
   ],
   "source": [
    "# 1. Write a Python program to print the numbers from 1 to 10 using a `for` loop.\n",
    "\n",
    "for i in range(10+1):\n",
    "    if i ==0 :\n",
    "        continue\n",
    "    else:\n",
    "        print(i)"
   ]
  },
  {
   "cell_type": "code",
   "execution_count": 4,
   "id": "b9c23748-05eb-4b5f-b744-6a0d2aaf8e81",
   "metadata": {},
   "outputs": [
    {
     "name": "stdout",
     "output_type": "stream",
     "text": [
      "15\n"
     ]
    }
   ],
   "source": [
    "# 2. Create a program that calculates the sum of all numbers in a list using a `for` loop.\n",
    "\n",
    "\n",
    "sum=0\n",
    "li=[1,2,3,4,5]\n",
    "for i in range(len(li)):\n",
    "    sum=sum+li[i]\n",
    "\n",
    "print(sum)"
   ]
  },
  {
   "cell_type": "code",
   "execution_count": 6,
   "id": "0084ce22-9fdb-44cb-b00e-03733b892541",
   "metadata": {},
   "outputs": [
    {
     "name": "stdout",
     "output_type": "stream",
     "text": [
      "olleh"
     ]
    }
   ],
   "source": [
    "# 3. Write a program to print the characters of a string in reverse order using a `for` loop.\n",
    "\n",
    "str=\"hello\"\n",
    "for i in reversed(str):\n",
    "    print(i,end='')"
   ]
  },
  {
   "cell_type": "code",
   "execution_count": 8,
   "id": "cd13809a-7d8e-4670-8f56-9b52eb8e978d",
   "metadata": {},
   "outputs": [
    {
     "name": "stdout",
     "output_type": "stream",
     "text": [
      "362880\n"
     ]
    }
   ],
   "source": [
    "# 4. Develop a program that finds the factorial of a given number using a `for` loop.\n",
    "\n",
    "\n",
    "fact=1\n",
    "for i in  range(1,10):\n",
    "    fact =fact*i\n",
    "    \n",
    "    \n",
    "print(fact)\n",
    "    "
   ]
  },
  {
   "cell_type": "code",
   "execution_count": 10,
   "id": "9334ba89-3ab1-4a9c-b738-c76e6aa643dd",
   "metadata": {},
   "outputs": [
    {
     "name": "stdin",
     "output_type": "stream",
     "text": [
      "enter the number whose table you want 7\n"
     ]
    },
    {
     "name": "stdout",
     "output_type": "stream",
     "text": [
      "7\n",
      "14\n",
      "21\n",
      "28\n",
      "35\n",
      "42\n",
      "49\n",
      "56\n",
      "63\n",
      "70\n"
     ]
    }
   ],
   "source": [
    "# 5. Create a program to print the multiplication table of a given number using a `for` loop.\n",
    "n=int(input(\"enter the number whose table you want\"))\n",
    "for i in  range(1,11):\n",
    "    print(n *i)\n",
    "    "
   ]
  },
  {
   "cell_type": "code",
   "execution_count": 12,
   "id": "a5d71250-b939-4959-afaf-e26e1ef9b2f3",
   "metadata": {},
   "outputs": [
    {
     "name": "stdout",
     "output_type": "stream",
     "text": [
      "the number of even number is :5\n",
      "odd number is :5\n"
     ]
    }
   ],
   "source": [
    "# 6. Write a program that counts the number of even and odd numbers in a list using a `for` loop.\n",
    "\n",
    "le=[1,2,3,4,5,6,7,8,9,10]\n",
    "count=0\n",
    "odd=0\n",
    "for i in le:\n",
    "    if i %2 == 0:\n",
    "        count=count+1\n",
    "    else:\n",
    "        odd =odd+1\n",
    "\n",
    "print(f\"the number of even number is :{count}\")\n",
    "print(f\"odd number is :{odd}\")"
   ]
  },
  {
   "cell_type": "code",
   "execution_count": 14,
   "id": "06cafa03-4b83-42cf-ad7e-cfc2091ede58",
   "metadata": {},
   "outputs": [
    {
     "name": "stdout",
     "output_type": "stream",
     "text": [
      "[1, 4, 9, 16, 25]\n"
     ]
    }
   ],
   "source": [
    "# 7. Develop a program that prints the squares of numbers from 1 to 5 using a `for` loop.\n",
    "\n",
    "\n",
    "le=[]\n",
    "\n",
    "for i in range(1,5+1):\n",
    "    le.append(i*i)\n",
    "print(le)\n",
    "    \n"
   ]
  },
  {
   "cell_type": "code",
   "execution_count": 16,
   "id": "aa6736c5-5cf8-4c2b-b010-937d6f29ede8",
   "metadata": {},
   "outputs": [
    {
     "name": "stdout",
     "output_type": "stream",
     "text": [
      "5\n"
     ]
    }
   ],
   "source": [
    "#8. Create a program to find the length of a string without using the `len()` function.\n",
    "\n",
    "\n",
    "count=0\n",
    "str=\"hello\"\n",
    "\n",
    "for i in str:\n",
    "   count=count+1\n",
    "print(count)\n",
    "    "
   ]
  },
  {
   "cell_type": "code",
   "execution_count": 18,
   "id": "54d40363-ab6e-4e33-999e-dca1598b7322",
   "metadata": {},
   "outputs": [
    {
     "name": "stdout",
     "output_type": "stream",
     "text": [
      "3.0\n"
     ]
    }
   ],
   "source": [
    "#9. Write a program that calculates the average of a list of numbers using a `for` loop.\n",
    "\n",
    "\n",
    "sum=0\n",
    "li=[1,2,3,4,5]\n",
    "for i in range(len(li)):\n",
    "    sum=sum+li[i]  #find sum and divide by the length of the list \n",
    "\n",
    "sum=sum/len(li)\n",
    "print(sum)"
   ]
  },
  {
   "cell_type": "code",
   "execution_count": 20,
   "id": "f88e9593-82d4-4981-8ecb-7d2fbd42748b",
   "metadata": {},
   "outputs": [
    {
     "name": "stdin",
     "output_type": "stream",
     "text": [
      "enter the number of fibonacci need 10\n"
     ]
    },
    {
     "name": "stdout",
     "output_type": "stream",
     "text": [
      "[0, 1, 1, 2, 3, 5, 8, 13, 21, 34]\n"
     ]
    }
   ],
   "source": [
    "#10. Develop a program that prints the first `n` Fibonacci numbers using a `for` loop.\n",
    "\n",
    "    \n",
    "li=[0,1]\n",
    "n=int(input(\"enter the number of fibonacci need\"))\n",
    "for i in range(2,n):\n",
    "    li.append(li[i-1]+li[i-2])\n",
    "    \n",
    "print(li)"
   ]
  },
  {
   "cell_type": "code",
   "execution_count": 22,
   "id": "9193e38c-747d-4316-bfa9-682ba69849e0",
   "metadata": {},
   "outputs": [
    {
     "name": "stdout",
     "output_type": "stream",
     "text": [
      "duplicate\n"
     ]
    }
   ],
   "source": [
    "# 11. Write a program to check if a given list contains any duplicates using a `for` loop.\n",
    "\n",
    "    \n",
    "li=[1,2,3,4,5,6,7,8,9,5]\n",
    "li.sort()\n",
    "chance=0\n",
    "for i in range(len(li)):\n",
    "    if li[i] ==li[i-1]:\n",
    "        chance=chance +1\n",
    "        break\n",
    "if chance>0 :\n",
    "    print(\"duplicate\")\n",
    "else:\n",
    "    print(\"not\")"
   ]
  },
  {
   "cell_type": "code",
   "execution_count": 24,
   "id": "9f5651ef-da7a-4177-8163-b69618692db4",
   "metadata": {},
   "outputs": [
    {
     "name": "stdin",
     "output_type": "stream",
     "text": [
      "enter the end point till you need prime number 10\n"
     ]
    },
    {
     "name": "stdout",
     "output_type": "stream",
     "text": [
      "[2, 3, 5, 7]\n"
     ]
    }
   ],
   "source": [
    "\n",
    "# 12. Create a program that prints the prime numbers in a given range using a `for` loop.\n",
    "\n",
    "\n",
    "li=[]\n",
    "n=int(input(\"enter the end point till you need prime number\"))\n",
    "for i in range(2,n+1):\n",
    "    is_prime=True\n",
    "    for j in range(2,i):\n",
    "        if i%j == 0:\n",
    "            is_prime=False\n",
    "            continue\n",
    "    if is_prime:\n",
    "        li.append(i)\n",
    "        \n",
    "print(li)"
   ]
  },
  {
   "cell_type": "code",
   "execution_count": 26,
   "id": "05d9ee74-15ed-4626-b7eb-c450671f1015",
   "metadata": {},
   "outputs": [
    {
     "name": "stdout",
     "output_type": "stream",
     "text": [
      "4\n"
     ]
    }
   ],
   "source": [
    "# 13. Develop a program that counts the number of vowels in a string using a `for` loop.\n",
    "\n",
    "\n",
    "s=\"hellojiai\"\n",
    "s1=\"aeiouAEIOU\"\n",
    "li=set()\n",
    "for i in  s:\n",
    "    if i in s1:\n",
    "        li.add(i)\n",
    "        \n",
    "print(len(li))#this will give the unique count of voewels and if we want total count then use list in place of set"
   ]
  },
  {
   "cell_type": "code",
   "execution_count": 28,
   "id": "e1676132-2772-459a-a7e6-4673ca23ca26",
   "metadata": {},
   "outputs": [
    {
     "name": "stdout",
     "output_type": "stream",
     "text": [
      "9999\n"
     ]
    }
   ],
   "source": [
    "# 14. Write a program to find the maximum element in a 2D list using a nested `for` loop.\n",
    "\n",
    "li=[1 ,22,33,44,555,9999,[666,777,888,99],1000]\n",
    "maxiji=0\n",
    "for i in range(len(li)):\n",
    "    \n",
    "    if isinstance(li[i], list):\n",
    "        for j in li[i]:\n",
    "             if j> maxiji:\n",
    "                 maxiji=j\n",
    "    \n",
    "    else:\n",
    "        if li[i]>maxiji:\n",
    "            maxiji=li[i]\n",
    "    \n",
    "print(maxiji)"
   ]
  },
  {
   "cell_type": "code",
   "execution_count": 30,
   "id": "57c853f2-a425-4f05-b8d6-d0724b62808e",
   "metadata": {},
   "outputs": [
    {
     "name": "stdout",
     "output_type": "stream",
     "text": [
      "[1, 2, 3, 4, 5, 6, 7]\n"
     ]
    }
   ],
   "source": [
    "# 15. Create a program that removes all occurrences of a specific element from a list using a `for` loop.\n",
    "\n",
    "li=[1,2,3,4,5,5,6,6,7,7,7,7]\n",
    "se=set()\n",
    "\n",
    "for i in li:\n",
    "    se.add(i)\n",
    "\n",
    "li=list(se)   \n",
    "print(li)"
   ]
  },
  {
   "cell_type": "code",
   "execution_count": 32,
   "id": "e51bf33b-26a9-46fc-ad95-5d31fdb5d454",
   "metadata": {},
   "outputs": [
    {
     "name": "stdout",
     "output_type": "stream",
     "text": [
      "1  2  3  4  5  6  7  8  9  10  \n",
      "2  4  6  8  10  12  14  16  18  20  \n",
      "3  6  9  12  15  18  21  24  27  30  \n",
      "4  8  12  16  20  24  28  32  36  40  \n",
      "5  10  15  20  25  30  35  40  45  50  \n"
     ]
    }
   ],
   "source": [
    "# 16. Develop a program that generates a multiplication table for numbers from 1 to 5 using a nested `for` loop.\n",
    "\n",
    "for i in range(1,5+1):\n",
    "    for j in range(1,11):\n",
    "        print(i*j,\" \",end='')\n",
    "        \n",
    "    print()\n"
   ]
  },
  {
   "cell_type": "code",
   "execution_count": 34,
   "id": "56018669-23cf-4880-92d6-ba9233986e49",
   "metadata": {},
   "outputs": [
    {
     "name": "stdout",
     "output_type": "stream",
     "text": [
      "[36.111111111111114, 36.66666666666667, 37.22222222222222, 37.77777777777778, 38.333333333333336, 38.88888888888889]\n"
     ]
    }
   ],
   "source": [
    "# 17. Write a program that converts a list of Fahrenheit temperatures to Celsius using a `for` loop.\n",
    "\n",
    "li=[97,98,99,100,101,102]\n",
    "faren=[]\n",
    "\n",
    "for i in li:\n",
    "    faren.append(5/9 * (i-32))\n",
    "    \n",
    "print(faren)"
   ]
  },
  {
   "cell_type": "code",
   "execution_count": 38,
   "id": "d335b138-cda8-4ab2-8908-a55fad49822d",
   "metadata": {},
   "outputs": [
    {
     "name": "stdout",
     "output_type": "stream",
     "text": [
      "[99, 100, 102]\n"
     ]
    }
   ],
   "source": [
    "# 18. Create a program to print the common elements from two lists using a `for` loop.\n",
    "\n",
    "li=[97,98,99,100,101,102]\n",
    "l2=[102,87,56,99,100]\n",
    "le=[]\n",
    "for i in li:\n",
    "    if i not in l2:\n",
    "        continue\n",
    "    else:\n",
    "        le.append(i)\n",
    "        \n",
    "print(le)"
   ]
  },
  {
   "cell_type": "code",
   "execution_count": 40,
   "id": "97cacfa6-6c80-4e7e-879e-7b02132420e8",
   "metadata": {},
   "outputs": [
    {
     "name": "stdout",
     "output_type": "stream",
     "text": [
      "\n",
      "\n",
      "*\n",
      "**\n",
      "***\n",
      "****\n",
      "*****\n"
     ]
    }
   ],
   "source": [
    "# 19. Develop a program that prints the pattern of right-angled triangles using a `for` loop. Use ‘*’ to draw the pattern\n",
    "\n",
    "\n",
    "for i in range(7):\n",
    "    for j in range(1,i):\n",
    "        print(\"*\",end='')\n",
    "    print()\n",
    "        \n"
   ]
  },
  {
   "cell_type": "code",
   "execution_count": null,
   "id": "42fa7488-8889-4c10-b317-b65271be88f1",
   "metadata": {},
   "outputs": [],
   "source": []
  }
 ],
 "metadata": {
  "kernelspec": {
   "display_name": "Python 3 (ipykernel)",
   "language": "python",
   "name": "python3"
  },
  "language_info": {
   "codemirror_mode": {
    "name": "ipython",
    "version": 3
   },
   "file_extension": ".py",
   "mimetype": "text/x-python",
   "name": "python",
   "nbconvert_exporter": "python",
   "pygments_lexer": "ipython3",
   "version": "3.12.7"
  }
 },
 "nbformat": 4,
 "nbformat_minor": 5
}
